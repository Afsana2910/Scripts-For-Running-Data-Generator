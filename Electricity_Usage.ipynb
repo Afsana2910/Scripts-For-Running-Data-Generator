{
 "cells": [
  {
   "cell_type": "code",
   "execution_count": 67,
   "metadata": {},
   "outputs": [],
   "source": [
    "#Import Packages\n",
    "import pandas as pd\n",
    "import datetime\n",
    "import os\n",
    "import statistics\n",
    "import json\n",
    "import matplotlib\n",
    "from matplotlib import pyplot\n",
    "from matplotlib import dates\n",
    "import datetime\n",
    "import matplotlib.dates as mdates"
   ]
  },
  {
   "cell_type": "code",
   "execution_count": 68,
   "metadata": {},
   "outputs": [],
   "source": [
    "#Functions to determine distribution\n",
    "def checkDescending(l):\n",
    "    flag = 0\n",
    "    temp = l[:]\n",
    "    temp.sort(reverse = True)\n",
    "    if (l == temp):\n",
    "        flag = 1\n",
    "    if (flag) :\n",
    "        return True\n",
    "    else :\n",
    "        return False\n",
    "    \n",
    "def checkAscending(l):\n",
    "    flag = 0\n",
    "    temp = l[:]\n",
    "    temp.sort()\n",
    "    if (l == temp):\n",
    "        flag = 1\n",
    "    if (flag) :\n",
    "        return True\n",
    "    else :\n",
    "        return False\n",
    "\n",
    "    \n",
    "def checkRandom(l):\n",
    "    if max(l)-min(l)<=10:\n",
    "        return True\n",
    "    else:\n",
    "        return False\n",
    "    "
   ]
  },
  {
   "cell_type": "code",
   "execution_count": 69,
   "metadata": {},
   "outputs": [],
   "source": [
    "#Pre-processing\n",
    "data = pd.read_csv(\"KogVoi.csv\") #Delta Centre Electricity Consumption Dataset\n",
    "data = data.drop(['tags'], axis = 1)\n",
    "data['time'] = pd.to_datetime(data['time'])\n",
    "data['time'] = data['time'].dt.strftime('%Y-%m-%d %H:%M:%S')\n",
    "data = data[data.host != 11029]\n",
    "data = data[data.time != \"1970-01-01 00:26:40\"]\n",
    "data = data.drop_duplicates(subset=['time'], keep='first')\n",
    "x = data['time'].values.tolist()\n",
    "y = data['value'].values.tolist()"
   ]
  },
  {
   "cell_type": "code",
   "execution_count": 70,
   "metadata": {},
   "outputs": [],
   "source": [
    "#Selecting Interval\n",
    "date_list = [i for i in x if i>='2020-10-12 00:00:00' and i<'2020-10-13 00:00:00'] \n",
    "values = []\n",
    "index = []\n",
    "index.clear()\n",
    "values.clear()\n",
    "\n",
    "for i in range(len(x)):\n",
    "    if x[i]>='2020-10-12 00:00:00' and x[i]<'2020-10-13 00:00:00': \n",
    "        index.append(i)\n",
    "\n",
    "for i in index:\n",
    "    values.append(y[i])"
   ]
  },
  {
   "cell_type": "code",
   "execution_count": 71,
   "metadata": {},
   "outputs": [
    {
     "data": {
      "image/png": "[encoded data removed]",
      "text/plain": [
       "<Figure size 432x288 with 1 Axes>"
      ]
     },
     "metadata": {
      "needs_background": "light"
     },
     "output_type": "display_data"
    },
    {
     "data": {
      "text/plain": [
       "<Figure size 720x360 with 0 Axes>"
      ]
     },
     "metadata": {},
     "output_type": "display_data"
    }
   ],
   "source": [
    "#Plotting Selected Interval\n",
    "converted_dates = list(map(datetime.datetime.strptime,date_list, len(date_list)*['%Y-%m-%d %H:%M:%S']))\n",
    "x_axis = converted_dates\n",
    "formatter = dates.DateFormatter('%Y-%m-%d %H:%M:%S')\n",
    "y_axis = values\n",
    "pyplot.plot( x_axis, y_axis, '-' )\n",
    "ax = pyplot.gcf().axes[0] \n",
    "ax.xaxis.set_major_formatter(formatter)\n",
    "pyplot.gcf().autofmt_xdate(rotation=90)\n",
    "hours = mdates.HourLocator(interval = 1)\n",
    "#h_fmt = mdates.DateFormatter('%H:%M:%S')\n",
    "#ax.xaxis.set_major_locator(hours)\n",
    "#ax.xaxis.set_major_formatter(h_fmt)\n",
    "pyplot.xlabel(\"Timestamps\")\n",
    "pyplot.ylabel(\"Electricity Consumption\")\n",
    "width1 = 10\n",
    "height1 = 5\n",
    "width_height_1 = (width1, height1)\n",
    "pyplot.figure(figsize=width_height_1)\n",
    "pyplot.show()\n"
   ]
  },
  {
   "cell_type": "code",
   "execution_count": 73,
   "metadata": {},
   "outputs": [],
   "source": [
    "#Diving Single Day into 1-hour Intervals\n",
    "ind = []\n",
    "values1 = []\n",
    "average = []\n",
    "diff = []\n",
    "distribution = ''\n",
    "for i in range(0,24):\n",
    "    values1.clear()\n",
    "    ind.clear()\n",
    "    diff.clear()\n",
    "    T = '2020-09-26 ' + str(i).zfill(2)\n",
    "    for j in range(len(x)):\n",
    "        if x[j].startswith(T):\n",
    "            ind.append(j)\n",
    "    for k in ind:\n",
    "        values1.append(y[k])\n",
    "        \n",
    "    #Determining Distribution of Data for Each Interval\n",
    "    if checkAscending(values1):\n",
    "        r1 = min(values1)\n",
    "        r2 = max(values1)\n",
    "        d=[]\n",
    "        for i in range(len(values1)-1):\n",
    "            d.append(values1[i+1]-values1[i])\n",
    "        slope = sum(d)/len(d)\n",
    "        distribution = '{\"type\":\"double_increment\",\"min\":'+str(r1)+',\"max\":'+str(r2)+',\"slope\":'+str(slope)+'}'\n",
    "    elif checkDescending(values1):\n",
    "        r1 = min(values1)\n",
    "        r2 = max(values1)\n",
    "        d=[]\n",
    "        for i in range(len(values1)-1):\n",
    "            d.append(values1[i]-values1[i+1])\n",
    "        slope = sum(d)/len(d)\n",
    "        distribution = '{\"type\":\"double_decrement\",\"min\":'+str(r1)+',\"max\":'+str(r2)+',\"slope\":'+str(slope)+'}'\n",
    "    elif checkRandom(values1):\n",
    "        r1 = min(values1)\n",
    "        r2 = max(values1)\n",
    "        distribution = '{\"type\":\"double_uniform\",\"min\":'+str(r1)+',\"max\":'+str(r2)+'}'\n",
    "    else:\n",
    "        mean = sum(values1) / len(values1)\n",
    "        average.append(mean)\n",
    "        for l in values1:\n",
    "            diff.append(l-mean)\n",
    "        distribution = '{\"type\":\"double_mean\",\"mean\":'+str(mean)+',\"values\":'+str(diff)+'\"anomaly\":10}'\n",
    "        \n",
    "        \n",
    "        \n",
    "        \n",
    "        \n",
    "    #Creation of Device Configuration Files   \n",
    "    interval = round(3600000/len(values1))\n",
    "    save_path = '~/configurations'\n",
    "    file_name = \"devices\"+str(i)+\".json\"\n",
    "    filename = os.path.join(save_path, file_name)\n",
    "    completeName = os.path.join(save_path, file_name)\n",
    "    default_anomaly = 10.00\n",
    "    data = [\n",
    "        {\n",
    "            \"type\":\"simple\",\n",
    "            \"uuid\":\"dev%04d\",\n",
    "            \"topic\":\"device/{$uuid}\",\n",
    "            \"sampling\":{\"type\":\"fixed\", \"interval\":interval},\n",
    "            \"copy\":2,\n",
    "            \"sensors\":[\n",
    "                {\"type\":\"dev.timestamp\",    \"name\":\"ts\"},\n",
    "                {\"type\":\"dev.uuid\",         \"name\":\"uuid\"},\n",
    "                distribution\n",
    "            ]\n",
    "        }\n",
    "    ]\n",
    "    with open(filename, 'w') as f:\n",
    "        json.dump(data, f)\n",
    "\n",
    "\n",
    "\n",
    "    \n"
   ]
  },
  {
   "cell_type": "code",
   "execution_count": null,
   "metadata": {},
   "outputs": [],
   "source": []
  },
  {
   "cell_type": "code",
   "execution_count": null,
   "metadata": {},
   "outputs": [],
   "source": []
  }
 ],
 "metadata": {
  "kernelspec": {
   "display_name": "Python 3",
   "language": "python",
   "name": "python3"
  },
  "language_info": {
   "codemirror_mode": {
    "name": "ipython",
    "version": 3
   },
   "file_extension": ".py",
   "mimetype": "text/x-python",
   "name": "python",
   "nbconvert_exporter": "python",
   "pygments_lexer": "ipython3",
   "version": "3.6.9"
  }
 },
 "nbformat": 4,
 "nbformat_minor": 2
}
